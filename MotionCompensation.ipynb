{
  "nbformat": 4,
  "nbformat_minor": 0,
  "metadata": {
    "colab": {
      "name": "MotionCompensation.ipynb",
      "provenance": [],
      "collapsed_sections": [],
      "authorship_tag": "ABX9TyMUJzh+U23IA8M9QuXmRTTX",
      "include_colab_link": true
    },
    "kernelspec": {
      "name": "python3",
      "display_name": "Python 3"
    }
  },
  "cells": [
    {
      "cell_type": "markdown",
      "metadata": {
        "id": "view-in-github",
        "colab_type": "text"
      },
      "source": [
        "<a href=\"https://colab.research.google.com/github/Darshan-20310597/Python-Prac/blob/main/MotionCompensation.ipynb\" target=\"_parent\"><img src=\"https://colab.research.google.com/assets/colab-badge.svg\" alt=\"Open In Colab\"/></a>"
      ]
    },
    {
      "cell_type": "code",
      "metadata": {
        "id": "p0_jVf37SXT3"
      },
      "source": [
        "from skimage import measure\r\n",
        "#s = ssim(imageA, imageB)\r\n",
        "import warnings\r\n",
        "warnings.filterwarnings('ignore')\r\n",
        "#s = measure.compare_ssim(imageA, imageB)\r\n",
        "import matplotlib.pyplot as plt\r\n",
        "import numpy as np\r\n",
        "import cv2\r\n",
        "from google.colab.patches import cv2_imshow"
      ],
      "execution_count": 1,
      "outputs": []
    },
    {
      "cell_type": "code",
      "metadata": {
        "id": "hCG7wCpxSX4z"
      },
      "source": [
        "def mse(imageA, imageB):\r\n",
        "\t# the 'Mean Squared Error' between the two images is the\r\n",
        "\t# sum of the squared difference between the two images;\r\n",
        "\t# NOTE: the two images must have the same dimension\r\n",
        "\terr = np.sum((imageA.astype(\"float\") - imageB.astype(\"float\")) ** 2)\r\n",
        "\terr /= float(imageA.shape[0] * imageA.shape[1])\r\n",
        "\t\r\n",
        "\t# return the MSE, the lower the error, the more \"similar\"\r\n",
        "\t# the two images are\r\n",
        "\treturn err\r\n",
        "def compare_images(imageA, imageB, title):\r\n",
        "\t# compute the mean squared error and structural similarity\r\n",
        "\t# index for the images\r\n",
        "\tm = mse(imageA, imageB)\r\n",
        "\ts = measure.compare_ssim(imageA, imageB)\r\n",
        "\t# setup the figure\r\n",
        "\tfig = plt.figure(title)\r\n",
        "\tplt.suptitle(\"MSE: %.2f, SSIM: %.2f\" % (m, s))\r\n",
        "\t# show first image\r\n",
        "\tax = fig.add_subplot(1, 2, 1)\r\n",
        "\tplt.imshow(imageA, cmap = plt.cm.gray)\r\n",
        "\tplt.axis(\"off\")\r\n",
        "\t# show the second image\r\n",
        "\tax = fig.add_subplot(1, 2, 2)\r\n",
        "\tplt.imshow(imageB, cmap = plt.cm.gray)\r\n",
        "\tplt.title(\"\");plt.axis(\"off\")\r\n",
        "  \r\n",
        "\tplt.show()"
      ],
      "execution_count": 2,
      "outputs": []
    },
    {
      "cell_type": "code",
      "metadata": {
        "id": "pJQ1tpy6TGW6"
      },
      "source": [
        "# load the images -- the original, the original + contrast,\r\n",
        "# and the original + photoshop\r\n",
        "original = cv2.imread(\"original48.png\")\r\n",
        "contrast = cv2.imread(\"Hulamc148.png\")\r\n",
        "original = cv2.cvtColor(original, cv2.COLOR_BGR2GRAY)\r\n",
        "contrast = cv2.cvtColor(contrast, cv2.COLOR_BGR2GRAY)\r\n",
        "#shopped = cv2.cvtColor(shopped, cv2.COLOR_BGR2GRAY)\r\n"
      ],
      "execution_count": 12,
      "outputs": []
    },
    {
      "cell_type": "code",
      "metadata": {
        "id": "8bOJtQljTyuh",
        "colab": {
          "base_uri": "https://localhost:8080/",
          "height": 291
        },
        "outputId": "12f31701-fb53-435a-e4ff-c421d9d91919"
      },
      "source": [
        "fig = plt.figure(\"Images\")\r\n",
        "images = (\"Original\", original), (\"Motion-Compensated Image\", contrast)\r\n",
        "# loop over the images\r\n",
        "for (i, (name, image)) in enumerate(images):\r\n",
        "\t# show the image\r\n",
        "\tax = fig.add_subplot(1, 3, i + 1)\r\n",
        "\tax.set_title(name)\r\n",
        "\tplt.imshow(image, cmap = plt.cm.gray)\r\n",
        "\tplt.axis(\"off\")\r\n",
        "# show the figure\r\n",
        "plt.show()\r\n",
        "# compare the images\r\n",
        "#compare_images(original, original, \"Original vs. Original\")\r\n",
        "compare_images(original, contrast, \"Original vs. Nuke Image\")"
      ],
      "execution_count": 13,
      "outputs": [
        {
          "output_type": "display_data",
          "data": {
            "image/png": "[encoded data removed]",
            "text/plain": [
              "<Figure size 432x288 with 2 Axes>"
            ]
          },
          "metadata": {
            "tags": [],
            "needs_background": "light"
          }
        },
        {
          "output_type": "display_data",
          "data": {
            "image/png": "[encoded data removed]",
            "text/plain": [
              "<Figure size 432x288 with 2 Axes>"
            ]
          },
          "metadata": {
            "tags": [],
            "needs_background": "light"
          }
        }
      ]
    }
  ]
}