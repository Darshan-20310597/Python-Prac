{
  "nbformat": 4,
  "nbformat_minor": 0,
  "metadata": {
    "colab": {
      "name": "Basic Coding Question.ipynb",
      "provenance": [],
      "collapsed_sections": [],
      "include_colab_link": true
    },
    "kernelspec": {
      "name": "python3",
      "display_name": "Python 3"
    },
    "accelerator": "GPU",
    "widgets": {
      "application/vnd.jupyter.widget-state+json": {
        "4e8ebfe0e9d24540874bbf5b8d0bc01a": {
          "model_module": "@jupyter-widgets/controls",
          "model_name": "HBoxModel",
          "state": {
            "_view_name": "HBoxView",
            "_dom_classes": [],
            "_model_name": "HBoxModel",
            "_view_module": "@jupyter-widgets/controls",
            "_model_module_version": "1.5.0",
            "_view_count": null,
            "_view_module_version": "1.5.0",
            "box_style": "",
            "layout": "IPY_MODEL_7ce60e81856541bcb09f0c24c0142111",
            "_model_module": "@jupyter-widgets/controls",
            "children": [
              "IPY_MODEL_88cda01af5f4443998b2c587e692d392",
              "IPY_MODEL_b3dae58cabcf4bfa9b8b6dffe28e3534"
            ]
          }
        },
        "7ce60e81856541bcb09f0c24c0142111": {
          "model_module": "@jupyter-widgets/base",
          "model_name": "LayoutModel",
          "state": {
            "_view_name": "LayoutView",
            "grid_template_rows": null,
            "right": null,
            "justify_content": null,
            "_view_module": "@jupyter-widgets/base",
            "overflow": null,
            "_model_module_version": "1.2.0",
            "_view_count": null,
            "flex_flow": null,
            "width": null,
            "min_width": null,
            "border": null,
            "align_items": null,
            "bottom": null,
            "_model_module": "@jupyter-widgets/base",
            "top": null,
            "grid_column": null,
            "overflow_y": null,
            "overflow_x": null,
            "grid_auto_flow": null,
            "grid_area": null,
            "grid_template_columns": null,
            "flex": null,
            "_model_name": "LayoutModel",
            "justify_items": null,
            "grid_row": null,
            "max_height": null,
            "align_content": null,
            "visibility": null,
            "align_self": null,
            "height": null,
            "min_height": null,
            "padding": null,
            "grid_auto_rows": null,
            "grid_gap": null,
            "max_width": null,
            "order": null,
            "_view_module_version": "1.2.0",
            "grid_template_areas": null,
            "object_position": null,
            "object_fit": null,
            "grid_auto_columns": null,
            "margin": null,
            "display": null,
            "left": null
          }
        },
        "88cda01af5f4443998b2c587e692d392": {
          "model_module": "@jupyter-widgets/controls",
          "model_name": "FloatProgressModel",
          "state": {
            "_view_name": "ProgressView",
            "style": "IPY_MODEL_ca36f4499e3f4d6d8d612222888821ea",
            "_dom_classes": [],
            "description": "100%",
            "_model_name": "FloatProgressModel",
            "bar_style": "success",
            "max": 178728960,
            "_view_module": "@jupyter-widgets/controls",
            "_model_module_version": "1.5.0",
            "value": 178728960,
            "_view_count": null,
            "_view_module_version": "1.5.0",
            "orientation": "horizontal",
            "min": 0,
            "description_tooltip": null,
            "_model_module": "@jupyter-widgets/controls",
            "layout": "IPY_MODEL_7d6c551cce22480591a06911a5af613b"
          }
        },
        "b3dae58cabcf4bfa9b8b6dffe28e3534": {
          "model_module": "@jupyter-widgets/controls",
          "model_name": "HTMLModel",
          "state": {
            "_view_name": "HTMLView",
            "style": "IPY_MODEL_cfc709c4da2c4702bb33d08c74677b03",
            "_dom_classes": [],
            "description": "",
            "_model_name": "HTMLModel",
            "placeholder": "​",
            "_view_module": "@jupyter-widgets/controls",
            "_model_module_version": "1.5.0",
            "value": " 170M/170M [00:05&lt;00:00, 35.7MB/s]",
            "_view_count": null,
            "_view_module_version": "1.5.0",
            "description_tooltip": null,
            "_model_module": "@jupyter-widgets/controls",
            "layout": "IPY_MODEL_2a168645a6cc48f99f06d20c3c8cdee6"
          }
        },
        "ca36f4499e3f4d6d8d612222888821ea": {
          "model_module": "@jupyter-widgets/controls",
          "model_name": "ProgressStyleModel",
          "state": {
            "_view_name": "StyleView",
            "_model_name": "ProgressStyleModel",
            "description_width": "initial",
            "_view_module": "@jupyter-widgets/base",
            "_model_module_version": "1.5.0",
            "_view_count": null,
            "_view_module_version": "1.2.0",
            "bar_color": null,
            "_model_module": "@jupyter-widgets/controls"
          }
        },
        "7d6c551cce22480591a06911a5af613b": {
          "model_module": "@jupyter-widgets/base",
          "model_name": "LayoutModel",
          "state": {
            "_view_name": "LayoutView",
            "grid_template_rows": null,
            "right": null,
            "justify_content": null,
            "_view_module": "@jupyter-widgets/base",
            "overflow": null,
            "_model_module_version": "1.2.0",
            "_view_count": null,
            "flex_flow": null,
            "width": null,
            "min_width": null,
            "border": null,
            "align_items": null,
            "bottom": null,
            "_model_module": "@jupyter-widgets/base",
            "top": null,
            "grid_column": null,
            "overflow_y": null,
            "overflow_x": null,
            "grid_auto_flow": null,
            "grid_area": null,
            "grid_template_columns": null,
            "flex": null,
            "_model_name": "LayoutModel",
            "justify_items": null,
            "grid_row": null,
            "max_height": null,
            "align_content": null,
            "visibility": null,
            "align_self": null,
            "height": null,
            "min_height": null,
            "padding": null,
            "grid_auto_rows": null,
            "grid_gap": null,
            "max_width": null,
            "order": null,
            "_view_module_version": "1.2.0",
            "grid_template_areas": null,
            "object_position": null,
            "object_fit": null,
            "grid_auto_columns": null,
            "margin": null,
            "display": null,
            "left": null
          }
        },
        "cfc709c4da2c4702bb33d08c74677b03": {
          "model_module": "@jupyter-widgets/controls",
          "model_name": "DescriptionStyleModel",
          "state": {
            "_view_name": "StyleView",
            "_model_name": "DescriptionStyleModel",
            "description_width": "",
            "_view_module": "@jupyter-widgets/base",
            "_model_module_version": "1.5.0",
            "_view_count": null,
            "_view_module_version": "1.2.0",
            "_model_module": "@jupyter-widgets/controls"
          }
        },
        "2a168645a6cc48f99f06d20c3c8cdee6": {
          "model_module": "@jupyter-widgets/base",
          "model_name": "LayoutModel",
          "state": {
            "_view_name": "LayoutView",
            "grid_template_rows": null,
            "right": null,
            "justify_content": null,
            "_view_module": "@jupyter-widgets/base",
            "overflow": null,
            "_model_module_version": "1.2.0",
            "_view_count": null,
            "flex_flow": null,
            "width": null,
            "min_width": null,
            "border": null,
            "align_items": null,
            "bottom": null,
            "_model_module": "@jupyter-widgets/base",
            "top": null,
            "grid_column": null,
            "overflow_y": null,
            "overflow_x": null,
            "grid_auto_flow": null,
            "grid_area": null,
            "grid_template_columns": null,
            "flex": null,
            "_model_name": "LayoutModel",
            "justify_items": null,
            "grid_row": null,
            "max_height": null,
            "align_content": null,
            "visibility": null,
            "align_self": null,
            "height": null,
            "min_height": null,
            "padding": null,
            "grid_auto_rows": null,
            "grid_gap": null,
            "max_width": null,
            "order": null,
            "_view_module_version": "1.2.0",
            "grid_template_areas": null,
            "object_position": null,
            "object_fit": null,
            "grid_auto_columns": null,
            "margin": null,
            "display": null,
            "left": null
          }
        },
        "dba7628d379e4181ad09e1df5a615cb8": {
          "model_module": "@jupyter-widgets/controls",
          "model_name": "HBoxModel",
          "state": {
            "_view_name": "HBoxView",
            "_dom_classes": [],
            "_model_name": "HBoxModel",
            "_view_module": "@jupyter-widgets/controls",
            "_model_module_version": "1.5.0",
            "_view_count": null,
            "_view_module_version": "1.5.0",
            "box_style": "",
            "layout": "IPY_MODEL_87516a9fa3ee4422bbda61338b55b6c1",
            "_model_module": "@jupyter-widgets/controls",
            "children": [
              "IPY_MODEL_62cb3f434b384274a3da940fa6b8c422",
              "IPY_MODEL_b8ad9f121db24860955e4cd559950d33"
            ]
          }
        },
        "87516a9fa3ee4422bbda61338b55b6c1": {
          "model_module": "@jupyter-widgets/base",
          "model_name": "LayoutModel",
          "state": {
            "_view_name": "LayoutView",
            "grid_template_rows": null,
            "right": null,
            "justify_content": null,
            "_view_module": "@jupyter-widgets/base",
            "overflow": null,
            "_model_module_version": "1.2.0",
            "_view_count": null,
            "flex_flow": null,
            "width": null,
            "min_width": null,
            "border": null,
            "align_items": null,
            "bottom": null,
            "_model_module": "@jupyter-widgets/base",
            "top": null,
            "grid_column": null,
            "overflow_y": null,
            "overflow_x": null,
            "grid_auto_flow": null,
            "grid_area": null,
            "grid_template_columns": null,
            "flex": null,
            "_model_name": "LayoutModel",
            "justify_items": null,
            "grid_row": null,
            "max_height": null,
            "align_content": null,
            "visibility": null,
            "align_self": null,
            "height": null,
            "min_height": null,
            "padding": null,
            "grid_auto_rows": null,
            "grid_gap": null,
            "max_width": null,
            "order": null,
            "_view_module_version": "1.2.0",
            "grid_template_areas": null,
            "object_position": null,
            "object_fit": null,
            "grid_auto_columns": null,
            "margin": null,
            "display": null,
            "left": null
          }
        },
        "62cb3f434b384274a3da940fa6b8c422": {
          "model_module": "@jupyter-widgets/controls",
          "model_name": "FloatProgressModel",
          "state": {
            "_view_name": "ProgressView",
            "style": "IPY_MODEL_7a517a7624bc41718502c0a4f16d1af4",
            "_dom_classes": [],
            "description": "100%",
            "_model_name": "FloatProgressModel",
            "bar_style": "success",
            "max": 32342954,
            "_view_module": "@jupyter-widgets/controls",
            "_model_module_version": "1.5.0",
            "value": 32342954,
            "_view_count": null,
            "_view_module_version": "1.5.0",
            "orientation": "horizontal",
            "min": 0,
            "description_tooltip": null,
            "_model_module": "@jupyter-widgets/controls",
            "layout": "IPY_MODEL_62f1ab3cac98486bb5fee08bf481cce8"
          }
        },
        "b8ad9f121db24860955e4cd559950d33": {
          "model_module": "@jupyter-widgets/controls",
          "model_name": "HTMLModel",
          "state": {
            "_view_name": "HTMLView",
            "style": "IPY_MODEL_d6adb5df81f743cda180eb38bbe44906",
            "_dom_classes": [],
            "description": "",
            "_model_name": "HTMLModel",
            "placeholder": "​",
            "_view_module": "@jupyter-widgets/controls",
            "_model_module_version": "1.5.0",
            "value": " 30.8M/30.8M [00:18&lt;00:00, 1.76MB/s]",
            "_view_count": null,
            "_view_module_version": "1.5.0",
            "description_tooltip": null,
            "_model_module": "@jupyter-widgets/controls",
            "layout": "IPY_MODEL_d5b33958c76b4961802c8d65bbfa3427"
          }
        },
        "7a517a7624bc41718502c0a4f16d1af4": {
          "model_module": "@jupyter-widgets/controls",
          "model_name": "ProgressStyleModel",
          "state": {
            "_view_name": "StyleView",
            "_model_name": "ProgressStyleModel",
            "description_width": "initial",
            "_view_module": "@jupyter-widgets/base",
            "_model_module_version": "1.5.0",
            "_view_count": null,
            "_view_module_version": "1.2.0",
            "bar_color": null,
            "_model_module": "@jupyter-widgets/controls"
          }
        },
        "62f1ab3cac98486bb5fee08bf481cce8": {
          "model_module": "@jupyter-widgets/base",
          "model_name": "LayoutModel",
          "state": {
            "_view_name": "LayoutView",
            "grid_template_rows": null,
            "right": null,
            "justify_content": null,
            "_view_module": "@jupyter-widgets/base",
            "overflow": null,
            "_model_module_version": "1.2.0",
            "_view_count": null,
            "flex_flow": null,
            "width": null,
            "min_width": null,
            "border": null,
            "align_items": null,
            "bottom": null,
            "_model_module": "@jupyter-widgets/base",
            "top": null,
            "grid_column": null,
            "overflow_y": null,
            "overflow_x": null,
            "grid_auto_flow": null,
            "grid_area": null,
            "grid_template_columns": null,
            "flex": null,
            "_model_name": "LayoutModel",
            "justify_items": null,
            "grid_row": null,
            "max_height": null,
            "align_content": null,
            "visibility": null,
            "align_self": null,
            "height": null,
            "min_height": null,
            "padding": null,
            "grid_auto_rows": null,
            "grid_gap": null,
            "max_width": null,
            "order": null,
            "_view_module_version": "1.2.0",
            "grid_template_areas": null,
            "object_position": null,
            "object_fit": null,
            "grid_auto_columns": null,
            "margin": null,
            "display": null,
            "left": null
          }
        },
        "d6adb5df81f743cda180eb38bbe44906": {
          "model_module": "@jupyter-widgets/controls",
          "model_name": "DescriptionStyleModel",
          "state": {
            "_view_name": "StyleView",
            "_model_name": "DescriptionStyleModel",
            "description_width": "",
            "_view_module": "@jupyter-widgets/base",
            "_model_module_version": "1.5.0",
            "_view_count": null,
            "_view_module_version": "1.2.0",
            "_model_module": "@jupyter-widgets/controls"
          }
        },
        "d5b33958c76b4961802c8d65bbfa3427": {
          "model_module": "@jupyter-widgets/base",
          "model_name": "LayoutModel",
          "state": {
            "_view_name": "LayoutView",
            "grid_template_rows": null,
            "right": null,
            "justify_content": null,
            "_view_module": "@jupyter-widgets/base",
            "overflow": null,
            "_model_module_version": "1.2.0",
            "_view_count": null,
            "flex_flow": null,
            "width": null,
            "min_width": null,
            "border": null,
            "align_items": null,
            "bottom": null,
            "_model_module": "@jupyter-widgets/base",
            "top": null,
            "grid_column": null,
            "overflow_y": null,
            "overflow_x": null,
            "grid_auto_flow": null,
            "grid_area": null,
            "grid_template_columns": null,
            "flex": null,
            "_model_name": "LayoutModel",
            "justify_items": null,
            "grid_row": null,
            "max_height": null,
            "align_content": null,
            "visibility": null,
            "align_self": null,
            "height": null,
            "min_height": null,
            "padding": null,
            "grid_auto_rows": null,
            "grid_gap": null,
            "max_width": null,
            "order": null,
            "_view_module_version": "1.2.0",
            "grid_template_areas": null,
            "object_position": null,
            "object_fit": null,
            "grid_auto_columns": null,
            "margin": null,
            "display": null,
            "left": null
          }
        }
      }
    }
  },
  "cells": [
    {
      "cell_type": "markdown",
      "metadata": {
        "id": "view-in-github",
        "colab_type": "text"
      },
      "source": [
        "<a href=\"https://colab.research.google.com/github/Darshan-20310597/Python-Prac/blob/main/Basic_Coding_Question.ipynb\" target=\"_parent\"><img src=\"https://colab.research.google.com/assets/colab-badge.svg\" alt=\"Open In Colab\"/></a>"
      ]
    },
    {
      "cell_type": "code",
      "metadata": {
        "colab": {
          "base_uri": "https://localhost:8080/"
        },
        "id": "SK32FYmURYvM",
        "outputId": "7fb6f69a-6ccf-429f-edcd-05d6fb1c38d3"
      },
      "source": [
        "print(\"Hello\")"
      ],
      "execution_count": null,
      "outputs": [
        {
          "output_type": "stream",
          "text": [
            "Hello\n"
          ],
          "name": "stdout"
        }
      ]
    },
    {
      "cell_type": "code",
      "metadata": {
        "id": "5pKFi7cdRa4G"
      },
      "source": [
        "def sleep_in(weekday,vacation):\n",
        "  if not weekday or vacation:\n",
        "    print(\"Sleep\")\n",
        "    return True;\n",
        "  else:\n",
        "    print(\"Get-up\")\n",
        "    return False;"
      ],
      "execution_count": null,
      "outputs": []
    },
    {
      "cell_type": "code",
      "metadata": {
        "colab": {
          "base_uri": "https://localhost:8080/"
        },
        "id": "1Mr7QfrUURlE",
        "outputId": "ba970cfd-bebf-48d1-bd7b-def2994358ec"
      },
      "source": [
        "sleep_in(True,False)\n",
        "\n",
        "# Condition is weekend and vacation and you can sleep"
      ],
      "execution_count": null,
      "outputs": [
        {
          "output_type": "stream",
          "text": [
            "Get-up\n"
          ],
          "name": "stdout"
        },
        {
          "output_type": "execute_result",
          "data": {
            "text/plain": [
              "False"
            ]
          },
          "metadata": {
            "tags": []
          },
          "execution_count": 3
        }
      ]
    },
    {
      "cell_type": "code",
      "metadata": {
        "id": "dRBd7HVNTbVb"
      },
      "source": [
        "def starts_with(str):\n",
        "  str = str.strip()  # Removes blanks \n",
        "  if str.startswith(\"not\"): # startswith\n",
        "    return str;\n",
        "  else:\n",
        "    return \"not\" + \" \" + str;"
      ],
      "execution_count": null,
      "outputs": []
    },
    {
      "cell_type": "code",
      "metadata": {
        "colab": {
          "base_uri": "https://localhost:8080/",
          "height": 35
        },
        "id": "WMtXY7cmXQSc",
        "outputId": "dbced9de-00ad-4db2-f69e-09975ef01a6f"
      },
      "source": [
        "starts_with(\" not Darshan\")"
      ],
      "execution_count": null,
      "outputs": [
        {
          "output_type": "execute_result",
          "data": {
            "application/vnd.google.colaboratory.intrinsic+json": {
              "type": "string"
            },
            "text/plain": [
              "'not Darshan'"
            ]
          },
          "metadata": {
            "tags": []
          },
          "execution_count": 23
        }
      ]
    },
    {
      "cell_type": "code",
      "metadata": {
        "id": "gqFtRUrRXQ4_"
      },
      "source": [
        "def missing_char(str,n):\n",
        "  str1 = str[0:n]   #Basic of matrix [:n] first n values without the nth value\n",
        "  str2 = str[n+1:]\n",
        "  return str1+str2;"
      ],
      "execution_count": null,
      "outputs": []
    },
    {
      "cell_type": "code",
      "metadata": {
        "colab": {
          "base_uri": "https://localhost:8080/",
          "height": 35
        },
        "id": "fDwtR0Y4UUVS",
        "outputId": "824bbdda-73da-4900-cf40-52792f5db6f5"
      },
      "source": [
        "missing_char(\"kitten\", 2)"
      ],
      "execution_count": null,
      "outputs": [
        {
          "output_type": "execute_result",
          "data": {
            "application/vnd.google.colaboratory.intrinsic+json": {
              "type": "string"
            },
            "text/plain": [
              "'kiten'"
            ]
          },
          "metadata": {
            "tags": []
          },
          "execution_count": 4
        }
      ]
    },
    {
      "cell_type": "markdown",
      "metadata": {
        "id": "SMwXhVHmV1gy"
      },
      "source": [
        "SWAPPING The last 2 char with the first two\n",
        "\n",
        "\n"
      ]
    },
    {
      "cell_type": "code",
      "metadata": {
        "id": "Apm3k7AUZPEy"
      },
      "source": [
        "def front_back(str):\n",
        "  print(len(str)) \n",
        "  val = str[len(str)-2:];\n",
        "  val = val[::-1]\n",
        "  val2 = str[0:2]\n",
        "  val3 = str[2:len(str)-2]\n",
        "  print(val+val3+val2);"
      ],
      "execution_count": null,
      "outputs": []
    },
    {
      "cell_type": "code",
      "metadata": {
        "colab": {
          "base_uri": "https://localhost:8080/"
        },
        "id": "4ANn9lE0ZRJs",
        "outputId": "31cb441b-d318-4ac1-f4a2-ac6d14e447b8"
      },
      "source": [
        "front_back('kitten')"
      ],
      "execution_count": null,
      "outputs": [
        {
          "output_type": "stream",
          "text": [
            "6\n",
            "nettki\n"
          ],
          "name": "stdout"
        }
      ]
    },
    {
      "cell_type": "code",
      "metadata": {
        "colab": {
          "base_uri": "https://localhost:8080/",
          "height": 35
        },
        "id": "hFJ2NuRicLPR",
        "outputId": "6a3cd562-ea71-4ef9-e61c-cedcc3fd3810"
      },
      "source": [
        "def front3(str):\n",
        "  stringvalue = str[0:3]\n",
        "  repeat = stringvalue*3;\n",
        "  return repeat;\n",
        "\n",
        "front3(\"chocolate\")"
      ],
      "execution_count": null,
      "outputs": [
        {
          "output_type": "execute_result",
          "data": {
            "application/vnd.google.colaboratory.intrinsic+json": {
              "type": "string"
            },
            "text/plain": [
              "'chochocho'"
            ]
          },
          "metadata": {
            "tags": []
          },
          "execution_count": 50
        }
      ]
    },
    {
      "cell_type": "markdown",
      "metadata": {
        "id": "g7aCJu_EWQcW"
      },
      "source": [
        "#DICT"
      ]
    },
    {
      "cell_type": "code",
      "metadata": {
        "colab": {
          "base_uri": "https://localhost:8080/"
        },
        "id": "S2ZNOM06WP_e",
        "outputId": "c78cedfc-878e-4e95-e1c9-1df4fa1b9c83"
      },
      "source": [
        "my_dict = dict()\n",
        "my_dict_1 = my_dict\n",
        "my_dict_2 = {}\n",
        "\n",
        "\n",
        "print(type(my_dict) == dict)\n",
        "print(type(my_dict) == type(my_dict_1))\n",
        "print(len(my_dict_2))\n",
        "print(type(my_dict))"
      ],
      "execution_count": null,
      "outputs": [
        {
          "output_type": "stream",
          "text": [
            "True\n",
            "True\n",
            "0\n",
            "<class 'dict'>\n"
          ],
          "name": "stdout"
        }
      ]
    },
    {
      "cell_type": "code",
      "metadata": {
        "colab": {
          "base_uri": "https://localhost:8080/"
        },
        "id": "4zf7gAHUX3DI",
        "outputId": "5a2932d7-db67-469f-93ec-d9614b37b147"
      },
      "source": [
        "my_dict = {1: 'one', 2: 'two', 3: 'three'}\n",
        "print(my_dict)\n",
        "\n",
        "print(my_dict.values())\n",
        "print(my_dict.keys())\n",
        "for k in my_dict:\n",
        "  print(my_dict[k])\n",
        "\n",
        "\n",
        "print(\"Enter only Key Values:\" , my_dict[3])\n",
        "print(\"Enter only Key Values:\" , my_dict[1])\n",
        "#print(\"Enter only Key Values:\" , my_dict[4]) # gives error as 0 key is not there . even for 4\n",
        "#print(\"Enter only Key Values:\" , my_dict[0])"
      ],
      "execution_count": null,
      "outputs": [
        {
          "output_type": "stream",
          "text": [
            "{1: 'one', 2: 'two', 3: 'three'}\n",
            "dict_values(['one', 'two', 'three'])\n",
            "dict_keys([1, 2, 3])\n",
            "one\n",
            "two\n",
            "three\n",
            "Enter only Key Values: three\n",
            "Enter only Key Values: one\n"
          ],
          "name": "stdout"
        }
      ]
    },
    {
      "cell_type": "code",
      "metadata": {
        "colab": {
          "base_uri": "https://localhost:8080/"
        },
        "id": "-klH5a76Y8gf",
        "outputId": "41b4c149-fa8f-440b-c37e-a3f7ac67a7d6"
      },
      "source": [
        "#.get method \n",
        "for k in my_dict:\n",
        "  print(my_dict.get(k, None))\n",
        "  #print(my_dict[k])"
      ],
      "execution_count": null,
      "outputs": [
        {
          "output_type": "stream",
          "text": [
            "one\n",
            "two\n",
            "three\n"
          ],
          "name": "stdout"
        }
      ]
    },
    {
      "cell_type": "markdown",
      "metadata": {
        "id": "PkOJs0ydb8u4"
      },
      "source": [
        "Changing values or updating values "
      ]
    },
    {
      "cell_type": "code",
      "metadata": {
        "colab": {
          "base_uri": "https://localhost:8080/"
        },
        "id": "wFTWyF5MZ3jK",
        "outputId": "f3ffc2c1-d28d-4611-b275-7f1028b4fbb8"
      },
      "source": [
        "my_dict[1] = \"Sun Rise\"\n",
        "my_dict[2] = \"Sun set\"\n",
        "print(my_dict)"
      ],
      "execution_count": null,
      "outputs": [
        {
          "output_type": "stream",
          "text": [
            "{1: 'Sun Rise', 2: 'Sun set', 3: 'three'}\n"
          ],
          "name": "stdout"
        }
      ]
    },
    {
      "cell_type": "code",
      "metadata": {
        "colab": {
          "base_uri": "https://localhost:8080/"
        },
        "id": "Z1CN5J8pbsjC",
        "outputId": "f452afc5-1998-4930-e44c-aba66bddd07d"
      },
      "source": [
        "# Deleting \n",
        "# pop ()\n",
        "my_dict = {1: 'one', 2: 'two', 3: 'three'}\n",
        "my_dict.pop(1)\n",
        "print(my_dict)\n",
        "\n"
      ],
      "execution_count": null,
      "outputs": [
        {
          "output_type": "stream",
          "text": [
            "{2: 'two', 3: 'three'}\n"
          ],
          "name": "stdout"
        }
      ]
    },
    {
      "cell_type": "code",
      "metadata": {
        "colab": {
          "base_uri": "https://localhost:8080/"
        },
        "id": "0U8f5GxXcN7r",
        "outputId": "ce58f652-8cb7-473d-9504-d8015977b3e6"
      },
      "source": [
        "print (my_dict)"
      ],
      "execution_count": null,
      "outputs": [
        {
          "output_type": "stream",
          "text": [
            "{2: 'two', 3: 'three'}\n"
          ],
          "name": "stdout"
        }
      ]
    },
    {
      "cell_type": "code",
      "metadata": {
        "colab": {
          "base_uri": "https://localhost:8080/"
        },
        "id": "zLEUQ2j1ceFN",
        "outputId": "73d82d6a-b964-4767-c31c-6b262ce3db77"
      },
      "source": [
        "my_dict = {1: 'one', 2: 'two', 3: 'three', 4: 'one', 5: 'six'}\n",
        "print(my_dict)"
      ],
      "execution_count": null,
      "outputs": [
        {
          "output_type": "stream",
          "text": [
            "{1: 'one', 2: 'two', 3: 'three', 4: 'one', 5: 'six'}\n"
          ],
          "name": "stdout"
        }
      ]
    },
    {
      "cell_type": "code",
      "metadata": {
        "colab": {
          "base_uri": "https://localhost:8080/"
        },
        "id": "ftkqd791dloe",
        "outputId": "035daa30-7a1e-4a26-f5f8-5422ada82e9b"
      },
      "source": [
        "for k in my_dict.values():\n",
        "  print(k.upper())\n",
        "\n",
        "  "
      ],
      "execution_count": null,
      "outputs": [
        {
          "output_type": "stream",
          "text": [
            "ONE\n",
            "TWO\n",
            "THREE\n",
            "ONE\n",
            "SIX\n"
          ],
          "name": "stdout"
        }
      ]
    },
    {
      "cell_type": "code",
      "metadata": {
        "colab": {
          "base_uri": "https://localhost:8080/"
        },
        "id": "a7AiGXxseAyR",
        "outputId": "3892cb00-0a2c-483c-c480-b6320450365a"
      },
      "source": [
        "# Delete last two values from a dict\n",
        "value = len(my_dict)\n",
        "print(value)\n",
        "value =value-1;\n",
        "for k in range(1,value):\n",
        "  print(my_dict[k])"
      ],
      "execution_count": null,
      "outputs": [
        {
          "output_type": "stream",
          "text": [
            "5\n",
            "one\n",
            "two\n",
            "three\n"
          ],
          "name": "stdout"
        }
      ]
    },
    {
      "cell_type": "code",
      "metadata": {
        "colab": {
          "base_uri": "https://localhost:8080/"
        },
        "id": "PFdMygVueb3B",
        "outputId": "78f20963-2ba4-4039-92ab-1648fa89794e"
      },
      "source": [
        "# Revere iteration of dict\n",
        "for k in sorted(my_dict.items(), reverse=True):\n",
        "  print(k)"
      ],
      "execution_count": null,
      "outputs": [
        {
          "output_type": "stream",
          "text": [
            "(5, 'six')\n",
            "(4, 'one')\n",
            "(3, 'three')\n",
            "(2, 'two')\n",
            "(1, 'one')\n"
          ],
          "name": "stdout"
        }
      ]
    },
    {
      "cell_type": "code",
      "metadata": {
        "colab": {
          "base_uri": "https://localhost:8080/"
        },
        "id": "BBCgq_Lvf-Kr",
        "outputId": "5d92d813-2ebd-4a33-9651-fe6ee3d9896d"
      },
      "source": [
        "d = {'banana': 1, 'apple':2, 'pear': 3, 'orange': 4 , 'avacado': 4}\n",
        "new_d = OrderedDict(sorted(d.items())) # always orders it based on keys \n",
        "new_d_reverse = OrderedDict(sorted(d.items(), reverse=True))\n",
        "print(new_d)\n",
        "print(new_d_reverse)"
      ],
      "execution_count": null,
      "outputs": [
        {
          "output_type": "stream",
          "text": [
            "OrderedDict([('apple', 2), ('avacado', 4), ('banana', 1), ('orange', 4), ('pear', 3)])\n",
            "OrderedDict([('pear', 3), ('orange', 4), ('banana', 1), ('avacado', 4), ('apple', 2)])\n"
          ],
          "name": "stdout"
        }
      ]
    },
    {
      "cell_type": "markdown",
      "metadata": {
        "id": "aOqlGSdFiprI"
      },
      "source": [
        "MERGEING DICT"
      ]
    },
    {
      "cell_type": "code",
      "metadata": {
        "colab": {
          "base_uri": "https://localhost:8080/"
        },
        "id": "bX0NzucdhuwQ",
        "outputId": "93f01a0c-c964-4d99-cbe4-20f32de77c84"
      },
      "source": [
        "dict1 = {'a':1, 'b':2}\n",
        "dict2 = {'c':3, 'd':4}\n",
        "\n",
        "dict3 = {**dict1, **dict2}\n",
        "dict3 \n",
        "# for python 3.9 and above#\n",
        "# dict3 = dict1 | dict2"
      ],
      "execution_count": null,
      "outputs": [
        {
          "output_type": "execute_result",
          "data": {
            "text/plain": [
              "{'a': 1, 'b': 2, 'c': 3, 'd': 4}"
            ]
          },
          "metadata": {
            "tags": []
          },
          "execution_count": 110
        }
      ]
    },
    {
      "cell_type": "code",
      "metadata": {
        "colab": {
          "base_uri": "https://localhost:8080/"
        },
        "id": "XJArRWjjiveC",
        "outputId": "bbd05f26-aa15-4231-9ed4-3c7f75449e23"
      },
      "source": [
        "# Checking for key \n",
        "print('a' in dict3)"
      ],
      "execution_count": null,
      "outputs": [
        {
          "output_type": "execute_result",
          "data": {
            "text/plain": [
              "True"
            ]
          },
          "metadata": {
            "tags": []
          },
          "execution_count": 112
        }
      ]
    },
    {
      "cell_type": "code",
      "metadata": {
        "colab": {
          "base_uri": "https://localhost:8080/"
        },
        "id": "g6ukp5l8i2cq",
        "outputId": "d60612c4-a329-47ab-f0a7-a55f1e17b28d"
      },
      "source": [
        "dict4 = {1:'a',2:'b',3:'c',(1,2,3):'d'}\n",
        "print((1,2,3) in dict4)"
      ],
      "execution_count": null,
      "outputs": [
        {
          "output_type": "stream",
          "text": [
            "True\n"
          ],
          "name": "stdout"
        }
      ]
    },
    {
      "cell_type": "code",
      "metadata": {
        "colab": {
          "base_uri": "https://localhost:8080/"
        },
        "id": "BYV3OxQ7jqCE",
        "outputId": "2e0a956f-8ca9-49a9-e6d6-4d6e50207415"
      },
      "source": [
        "# Compare 2 Dict \n",
        "\n",
        "dict5  = {x: x+1 for x in range(1,10)}\n",
        "dict6 = {i : i+1 for i in range(5,15)}\n",
        "print (dict5)\n",
        "print(dict6)\n",
        "\n",
        "\n",
        "dict7 = {key:value for key in range(0,5) for value in range(1,6)}\n",
        "print(dict7)"
      ],
      "execution_count": null,
      "outputs": [
        {
          "output_type": "stream",
          "text": [
            "{1: 2, 2: 3, 3: 4, 4: 5, 5: 6, 6: 7, 7: 8, 8: 9, 9: 10}\n",
            "{5: 6, 6: 7, 7: 8, 8: 9, 9: 10, 10: 11, 11: 12, 12: 13, 13: 14, 14: 15}\n",
            "{0: 5, 1: 5, 2: 5, 3: 5, 4: 5}\n"
          ],
          "name": "stdout"
        }
      ]
    },
    {
      "cell_type": "code",
      "metadata": {
        "colab": {
          "base_uri": "https://localhost:8080/"
        },
        "id": "l7j0VH5hkTQo",
        "outputId": "ef2684f6-a170-4d22-b8c9-40e66e196634"
      },
      "source": [
        ""
      ],
      "execution_count": null,
      "outputs": [
        {
          "output_type": "stream",
          "text": [
            "{1: 1, 2: 4, 3: 9, 4: 16, 5: 25, 6: 36, 7: 49, 8: 64, 9: 81, 10: 100}\n"
          ],
          "name": "stdout"
        }
      ]
    },
    {
      "cell_type": "code",
      "metadata": {
        "colab": {
          "base_uri": "https://localhost:8080/"
        },
        "id": "MnNdGfcQka-a",
        "outputId": "1f7e32b5-f8b9-4e8c-c824-8c862c96e38a"
      },
      "source": [
        "# drop empty or None values in the dict\n",
        "dict8 = {1:\"apple\",2:\"mango\",3:\"pear\",4:None,5:\"\",6:\"banana\"}\n",
        "print(dict8)\n",
        "\n",
        "dict8 = {key:value for (key,value) in dict8.items() if value is not \"\" and value is not None }\n",
        "print(dict8)"
      ],
      "execution_count": null,
      "outputs": [
        {
          "output_type": "stream",
          "text": [
            "{1: 'apple', 2: 'mango', 3: 'pear', 4: None, 5: '', 6: 'banana'}\n",
            "{1: 'apple', 2: 'mango', 3: 'pear', 6: 'banana'}\n"
          ],
          "name": "stdout"
        }
      ]
    },
    {
      "cell_type": "code",
      "metadata": {
        "colab": {
          "base_uri": "https://localhost:8080/"
        },
        "id": "xuIDoznWmMVo",
        "outputId": "03a30d83-1260-4001-9045-b1e7a5d32d21"
      },
      "source": [
        "# Python3 code to demonstrate working of  \n",
        "# Remove duplicate values in dictionary \n",
        "# Using dictionary comprehension \n",
        "  \n",
        "# initializing dictionary \n",
        "test_dict = { 'gfg' : 10, 'is' : 15, 'best' : 20, 'for' : 10, 'geeks' : 20} \n",
        "  \n",
        "# printing original dictionary \n",
        "print(\"The original dictionary is : \" , test_dict) \n",
        "\n",
        "\n",
        "temp = {val : key for key, val in test_dict.items()} \n",
        "print(temp)\n",
        "res = {val : key for key, val in temp.items()} \n",
        "\n",
        "print(res)"
      ],
      "execution_count": null,
      "outputs": [
        {
          "output_type": "stream",
          "text": [
            "The original dictionary is :  {'gfg': 10, 'is': 15, 'best': 20, 'for': 10, 'geeks': 20}\n",
            "{10: 'for', 15: 'is', 20: 'geeks'}\n",
            "{'for': 10, 'is': 15, 'geeks': 20}\n"
          ],
          "name": "stdout"
        }
      ]
    },
    {
      "cell_type": "code",
      "metadata": {
        "colab": {
          "base_uri": "https://localhost:8080/"
        },
        "id": "HqVs6MP1pYax",
        "outputId": "b3194d47-527f-430c-ddf4-a600ddf55a28"
      },
      "source": [
        "# lowest or first values to be preserved \n",
        "\n",
        "temp = []\n",
        "res = dict()\n",
        "\n",
        "for k,v in test_dict.items():\n",
        "  if v not in temp:\n",
        "    temp.append(v)\n",
        "    res[k]=v  \n",
        "\n",
        "print(res)\n",
        "\n"
      ],
      "execution_count": null,
      "outputs": [
        {
          "output_type": "stream",
          "text": [
            "{'gfg': 10, 'is': 15, 'best': 20}\n"
          ],
          "name": "stdout"
        }
      ]
    },
    {
      "cell_type": "code",
      "metadata": {
        "colab": {
          "base_uri": "https://localhost:8080/"
        },
        "id": "1wTKlhVgrcoX",
        "outputId": "d7da036c-fceb-4959-ea40-026b71d6a6b4"
      },
      "source": [
        "#Filter a Dictionary Based on Values\n",
        "\n",
        "heights = {'John': 175, 'Jane': 150, 'Jim': 155, 'Matt': 170}\n",
        "\n",
        "\n",
        "height_above_152 = {key:value for (key,value) in heights.items() if value> 152}\n",
        "print(height_above_152)"
      ],
      "execution_count": null,
      "outputs": [
        {
          "output_type": "stream",
          "text": [
            "{'John': 175, 'Jim': 155, 'Matt': 170}\n"
          ],
          "name": "stdout"
        }
      ]
    },
    {
      "cell_type": "code",
      "metadata": {
        "colab": {
          "base_uri": "https://localhost:8080/"
        },
        "id": "b8Wz2HGbsua4",
        "outputId": "f9c65d12-010a-4059-b523-be6e9f02aecf"
      },
      "source": [
        "hp = {\n",
        "    'title': \"Harry Potter and the Philosopher's Stone\",\n",
        "    'author': \"J.K. Rowling\",\n",
        "    'publication': '1988-06-26'\n",
        "}\n",
        "\n",
        "\n",
        "print(hp['title'])\n",
        "\n",
        "print(\"***************\")\n",
        "\n",
        "for values in hp.values():\n",
        "  print (values)\n",
        "\n",
        "print(\"***************\")\n",
        "ages = {\n",
        "    'kevin': 12,\n",
        "    'marcus': 9,\n",
        "    'evan': 31,\n",
        "    'nik': 31\n",
        "}\n",
        "\n",
        "\n",
        "new_dict = {key:('odd' if value % 2 == 1 else 'even') for (key,value) in ages.items() }\n",
        "print (new_dict)"
      ],
      "execution_count": null,
      "outputs": [
        {
          "output_type": "stream",
          "text": [
            "Harry Potter and the Philosopher's Stone\n",
            "***************\n",
            "Harry Potter and the Philosopher's Stone\n",
            "J.K. Rowling\n",
            "1988-06-26\n",
            "***************\n",
            "{'kevin': 'even', 'marcus': 'odd', 'evan': 'odd', 'nik': 'odd'}\n"
          ],
          "name": "stdout"
        }
      ]
    },
    {
      "cell_type": "code",
      "metadata": {
        "colab": {
          "base_uri": "https://localhost:8080/"
        },
        "id": "LZdB2VMFtHnC",
        "outputId": "d68eb67d-8f93-4204-c0a6-fafc8835c0d6"
      },
      "source": [
        "### Dictionary Comprehension Example: Using the Enumerate Function\n",
        "\n",
        "\n",
        "names = ['Harry', 'Hermione', 'Ron', 'Neville', 'Luna']\n",
        "index_1  = {k:v for (k, v) in enumerate(names)}\n",
        "print(\"index_1\",index_1)\n",
        "\n",
        "\n",
        "index = {k:v for (v,k) in enumerate(names)}\n",
        "print(index)"
      ],
      "execution_count": null,
      "outputs": [
        {
          "output_type": "stream",
          "text": [
            "index_1 {0: 'Harry', 1: 'Hermione', 2: 'Ron', 3: 'Neville', 4: 'Luna'}\n",
            "{'Harry': 0, 'Hermione': 1, 'Ron': 2, 'Neville': 3, 'Luna': 4}\n"
          ],
          "name": "stdout"
        }
      ]
    },
    {
      "cell_type": "code",
      "metadata": {
        "colab": {
          "base_uri": "https://localhost:8080/"
        },
        "id": "mpkkQIKru38A",
        "outputId": "238b0699-9c75-410e-cf6d-c6aa17e442a3"
      },
      "source": [
        "ages = {\n",
        "    'kevin': 12,\n",
        "    'marcus': 9,\n",
        "    'evan': 31,\n",
        "    'nik': 31\n",
        "}\n",
        "ages = {key:ages[key] for key in ages.keys() - {'marcus', 'nik'}}\n",
        "print(ages)"
      ],
      "execution_count": null,
      "outputs": [
        {
          "output_type": "stream",
          "text": [
            "{'kevin': 12, 'evan': 31}\n"
          ],
          "name": "stdout"
        }
      ]
    },
    {
      "cell_type": "code",
      "metadata": {
        "id": "tAD_haoKzSC6"
      },
      "source": [
        "# Classes Basic \n",
        "#Init is like the constructor\n",
        "class Person():\n",
        "  company = \"Infosys\"\n",
        "  def __init__(self,name,age,email):\n",
        "    self.name= name;\n",
        "    self.age=age;\n",
        "    self.email=email;\n",
        "\n",
        "  def descript(self):\n",
        "    return f'{self.name} is {self.age} year old at {self.company}'\n",
        "\n",
        "  def phoneno(self,number):\n",
        "    return f'{self.name} has a number { number}'\n",
        "\n",
        "  def __str__(self):\n",
        "    return f' {self.name} is {self.age} years old'\n"
      ],
      "execution_count": 12,
      "outputs": []
    },
    {
      "cell_type": "code",
      "metadata": {
        "colab": {
          "base_uri": "https://localhost:8080/"
        },
        "id": "jGqFPthw1Vnb",
        "outputId": "0e8f0a8e-8426-44e7-ca3e-a4e2ab9cf546"
      },
      "source": [
        "person = Person(\"Ravi\",25,\"abc@gmail.com\")\n",
        "person.descript()\n",
        "person.phoneno(8713344875)\n",
        "print(person) # class the __str__ method Dunder "
      ],
      "execution_count": 17,
      "outputs": [
        {
          "output_type": "stream",
          "text": [
            " Ravi is 25 years old\n"
          ],
          "name": "stdout"
        }
      ]
    },
    {
      "cell_type": "code",
      "metadata": {
        "id": "xRd4A9vf1j5S"
      },
      "source": [
        "class Sales(Person):\n",
        "  team = 'Sales'\n",
        "\n",
        "  def __init__(self,Person):\n",
        "    self.name = Person.name;\n",
        "    self.age = Person.age;\n",
        "    self.email = Person.email;\n",
        "  \n",
        "  def descript(self):\n",
        "    return f'{self.name} is {self.age} year old at {self.company} belongs to {self.team}'"
      ],
      "execution_count": 35,
      "outputs": []
    },
    {
      "cell_type": "code",
      "metadata": {
        "colab": {
          "base_uri": "https://localhost:8080/"
        },
        "id": "vckt56NU6ch5",
        "outputId": "314fc54a-be04-401d-afb6-aa6cb461a3c7"
      },
      "source": [
        "person = Person(\"Ravi\",25,\"abc@gmail.com\")\n",
        "sales = Sales(person)\n",
        "print(sales.descript())"
      ],
      "execution_count": 37,
      "outputs": [
        {
          "output_type": "stream",
          "text": [
            "Ravi is 25 year old at Infosys belongs to Sales\n"
          ],
          "name": "stdout"
        }
      ]
    },
    {
      "cell_type": "code",
      "metadata": {
        "id": "uoI7DcUs5kI2"
      },
      "source": [
        "class Student:\n",
        "    def __init__(self, first_name, last_name):\n",
        "        self.first_name = first_name\n",
        "        self.last_name = last_name\n",
        "        self.status_verified = None\n",
        "        self.guardian = None"
      ],
      "execution_count": 20,
      "outputs": []
    },
    {
      "cell_type": "markdown",
      "metadata": {
        "id": "9aFaJ_UR8dMP"
      },
      "source": [
        ". Use Properties — But Parsimoniously\n",
        "Some people learn Python coding with an existing background of other OOP languages, such as Java, and they’re used to creating getters and setters for attributes of the instances. This pattern can be mimicked with the use of the property decorator in Python. \n",
        "The following code shows you the basic form of using the property decorator to implement getters and setters.\n",
        "\n"
      ]
    },
    {
      "cell_type": "code",
      "metadata": {
        "id": "kl_D5EEL5o_8"
      },
      "source": [
        "class Student:\n",
        "    def __init__(self, first_name, last_name):\n",
        "        self.first_name = first_name\n",
        "        self.last_name = last_name\n",
        "    \n",
        "    @property\n",
        "    def name(self):\n",
        "        print(\"Getter for the name\")\n",
        "        return f\"{self.first_name} {self.last_name}\"\n",
        "    \n",
        "    @name.setter\n",
        "    def name(self, name):\n",
        "        print(\"Setter for the name\")\n",
        "        self.first_name, self.last_name = name.split()"
      ],
      "execution_count": 21,
      "outputs": []
    },
    {
      "cell_type": "code",
      "metadata": {
        "colab": {
          "base_uri": "https://localhost:8080/",
          "height": 82,
          "referenced_widgets": [
            "4e8ebfe0e9d24540874bbf5b8d0bc01a",
            "7ce60e81856541bcb09f0c24c0142111",
            "88cda01af5f4443998b2c587e692d392",
            "b3dae58cabcf4bfa9b8b6dffe28e3534",
            "ca36f4499e3f4d6d8d612222888821ea",
            "7d6c551cce22480591a06911a5af613b",
            "cfc709c4da2c4702bb33d08c74677b03",
            "2a168645a6cc48f99f06d20c3c8cdee6"
          ]
        },
        "id": "s2qW4Y4q5q88",
        "outputId": "eca7f20c-2413-4ea9-8cca-d808ba5e48fd"
      },
      "source": [
        "import torchvision\n",
        "model = torchvision.models.resnet101(pretrained=True)"
      ],
      "execution_count": 7,
      "outputs": [
        {
          "output_type": "stream",
          "text": [
            "Downloading: \"https://download.pytorch.org/models/resnet101-5d3b4d8f.pth\" to /root/.cache/torch/hub/checkpoints/resnet101-5d3b4d8f.pth\n"
          ],
          "name": "stderr"
        },
        {
          "output_type": "display_data",
          "data": {
            "application/vnd.jupyter.widget-view+json": {
              "model_id": "4e8ebfe0e9d24540874bbf5b8d0bc01a",
              "version_minor": 0,
              "version_major": 2
            },
            "text/plain": [
              "HBox(children=(FloatProgress(value=0.0, max=178728960.0), HTML(value='')))"
            ]
          },
          "metadata": {
            "tags": []
          }
        },
        {
          "output_type": "stream",
          "text": [
            "\n"
          ],
          "name": "stdout"
        }
      ]
    },
    {
      "cell_type": "code",
      "metadata": {
        "colab": {
          "base_uri": "https://localhost:8080/",
          "height": 82,
          "referenced_widgets": [
            "dba7628d379e4181ad09e1df5a615cb8",
            "87516a9fa3ee4422bbda61338b55b6c1",
            "62cb3f434b384274a3da940fa6b8c422",
            "b8ad9f121db24860955e4cd559950d33",
            "7a517a7624bc41718502c0a4f16d1af4",
            "62f1ab3cac98486bb5fee08bf481cce8",
            "d6adb5df81f743cda180eb38bbe44906",
            "d5b33958c76b4961802c8d65bbfa3427"
          ]
        },
        "id": "fmB7SWvANtKQ",
        "outputId": "9057bd9f-bd9b-4466-bc49-50121229f36d"
      },
      "source": [
        "model = torchvision.models.densenet121(pretrained=True)"
      ],
      "execution_count": 4,
      "outputs": [
        {
          "output_type": "stream",
          "text": [
            "Downloading: \"https://download.pytorch.org/models/densenet121-a639ec97.pth\" to /root/.cache/torch/hub/checkpoints/densenet121-a639ec97.pth\n"
          ],
          "name": "stderr"
        },
        {
          "output_type": "display_data",
          "data": {
            "application/vnd.jupyter.widget-view+json": {
              "model_id": "dba7628d379e4181ad09e1df5a615cb8",
              "version_minor": 0,
              "version_major": 2
            },
            "text/plain": [
              "HBox(children=(FloatProgress(value=0.0, max=32342954.0), HTML(value='')))"
            ]
          },
          "metadata": {
            "tags": []
          }
        },
        {
          "output_type": "stream",
          "text": [
            "\n"
          ],
          "name": "stdout"
        }
      ]
    },
    {
      "cell_type": "code",
      "metadata": {
        "colab": {
          "base_uri": "https://localhost:8080/",
          "height": 128
        },
        "id": "uDuNobn2OFTj",
        "outputId": "eec8afd6-d944-43bf-e673-2723a94c36fb"
      },
      "source": [
        "class Teacher:\n",
        "  \n",
        "  def say_hello(name):\n",
        "    print('Hello, ' + name)\n",
        "\n",
        "teacher = Teacher()\n",
        "teacher.say_hello()\n"
      ],
      "execution_count": 4,
      "outputs": [
        {
          "output_type": "error",
          "ename": "SyntaxError",
          "evalue": "ignored",
          "traceback": [
            "\u001b[0;36m  File \u001b[0;32m\"<ipython-input-4-89cc5f258bb2>\"\u001b[0;36m, line \u001b[0;32m3\u001b[0m\n\u001b[0;31m    def say_hello(self.name):\u001b[0m\n\u001b[0m                      ^\u001b[0m\n\u001b[0;31mSyntaxError\u001b[0m\u001b[0;31m:\u001b[0m invalid syntax\n"
          ]
        }
      ]
    },
    {
      "cell_type": "code",
      "metadata": {
        "id": "hf0dhCYBgDbq"
      },
      "source": [
        ""
      ],
      "execution_count": null,
      "outputs": []
    }
  ]
}