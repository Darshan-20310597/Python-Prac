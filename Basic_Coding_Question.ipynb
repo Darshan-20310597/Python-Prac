{
  "nbformat": 4,
  "nbformat_minor": 0,
  "metadata": {
    "colab": {
      "name": "Basic Coding Question.ipynb",
      "provenance": [],
      "collapsed_sections": [],
      "include_colab_link": true
    },
    "kernelspec": {
      "name": "python3",
      "display_name": "Python 3"
    },
    "accelerator": "GPU"
  },
  "cells": [
    {
      "cell_type": "markdown",
      "metadata": {
        "id": "view-in-github",
        "colab_type": "text"
      },
      "source": [
        "<a href=\"https://colab.research.google.com/github/Darshan-20310597/Python-Prac/blob/main/Basic_Coding_Question.ipynb\" target=\"_parent\"><img src=\"https://colab.research.google.com/assets/colab-badge.svg\" alt=\"Open In Colab\"/></a>"
      ]
    },
    {
      "cell_type": "code",
      "metadata": {
        "colab": {
          "base_uri": "https://localhost:8080/"
        },
        "id": "SK32FYmURYvM",
        "outputId": "a1052aba-7d71-4a53-e3f1-44a7c40f694e"
      },
      "source": [
        "print(\"Hello\")"
      ],
      "execution_count": null,
      "outputs": [
        {
          "output_type": "stream",
          "text": [
            "Hello\n"
          ],
          "name": "stdout"
        }
      ]
    },
    {
      "cell_type": "code",
      "metadata": {
        "id": "5pKFi7cdRa4G"
      },
      "source": [
        "def sleep_in(weekday,vacation):\n",
        "  if not weekday or vacation:\n",
        "    print(\"Sleep\")\n",
        "    return True;\n",
        "  else:\n",
        "    print(\"Get-up\")\n",
        "    return False;"
      ],
      "execution_count": null,
      "outputs": []
    },
    {
      "cell_type": "code",
      "metadata": {
        "colab": {
          "base_uri": "https://localhost:8080/"
        },
        "id": "1Mr7QfrUURlE",
        "outputId": "3a0ea029-68a5-4ccc-ce0b-bc1444168915"
      },
      "source": [
        "sleep_in(True,False)\n",
        "\n",
        "# Condition is weekend and vacation and you can sleep"
      ],
      "execution_count": null,
      "outputs": [
        {
          "output_type": "stream",
          "text": [
            "Getup\n"
          ],
          "name": "stdout"
        },
        {
          "output_type": "execute_result",
          "data": {
            "text/plain": [
              "False"
            ]
          },
          "metadata": {
            "tags": []
          },
          "execution_count": 9
        }
      ]
    },
    {
      "cell_type": "code",
      "metadata": {
        "id": "dRBd7HVNTbVb"
      },
      "source": [
        "def starts_with(str):\n",
        "  str = str.strip()  # Removes blanks \n",
        "  if str.startswith(\"not\"): # startswith\n",
        "    return str;\n",
        "  else:\n",
        "    return \"not\" + \" \" + str;"
      ],
      "execution_count": null,
      "outputs": []
    },
    {
      "cell_type": "code",
      "metadata": {
        "colab": {
          "base_uri": "https://localhost:8080/",
          "height": 35
        },
        "id": "WMtXY7cmXQSc",
        "outputId": "dbced9de-00ad-4db2-f69e-09975ef01a6f"
      },
      "source": [
        "starts_with(\" not Darshan\")"
      ],
      "execution_count": null,
      "outputs": [
        {
          "output_type": "execute_result",
          "data": {
            "application/vnd.google.colaboratory.intrinsic+json": {
              "type": "string"
            },
            "text/plain": [
              "'not Darshan'"
            ]
          },
          "metadata": {
            "tags": []
          },
          "execution_count": 23
        }
      ]
    },
    {
      "cell_type": "code",
      "metadata": {
        "id": "gqFtRUrRXQ4_"
      },
      "source": [
        "def missing_char(str,n):\n",
        "  str1 = str[0:n]   #Basic of matrix [:n] first n values without the nth value\n",
        "  str2 = str[n+1:]\n",
        "  return str1+str2;"
      ],
      "execution_count": 3,
      "outputs": []
    },
    {
      "cell_type": "code",
      "metadata": {
        "colab": {
          "base_uri": "https://localhost:8080/",
          "height": 35
        },
        "id": "fDwtR0Y4UUVS",
        "outputId": "824bbdda-73da-4900-cf40-52792f5db6f5"
      },
      "source": [
        "missing_char(\"kitten\", 2)"
      ],
      "execution_count": 4,
      "outputs": [
        {
          "output_type": "execute_result",
          "data": {
            "application/vnd.google.colaboratory.intrinsic+json": {
              "type": "string"
            },
            "text/plain": [
              "'kiten'"
            ]
          },
          "metadata": {
            "tags": []
          },
          "execution_count": 4
        }
      ]
    },
    {
      "cell_type": "markdown",
      "metadata": {
        "id": "SMwXhVHmV1gy"
      },
      "source": [
        "SWAPPING The last 2 char with the first two\n",
        "\n",
        "\n"
      ]
    },
    {
      "cell_type": "code",
      "metadata": {
        "id": "Apm3k7AUZPEy"
      },
      "source": [
        "def front_back(str):\n",
        "  print(len(str)) \n",
        "  val = str[len(str)-2:];\n",
        "  val = val[::-1]\n",
        "  val2 = str[0:2]\n",
        "  val3 = str[2:len(str)-2]\n",
        "  print(val+val3+val2);"
      ],
      "execution_count": 17,
      "outputs": []
    },
    {
      "cell_type": "code",
      "metadata": {
        "colab": {
          "base_uri": "https://localhost:8080/"
        },
        "id": "4ANn9lE0ZRJs",
        "outputId": "31cb441b-d318-4ac1-f4a2-ac6d14e447b8"
      },
      "source": [
        "front_back('kitten')"
      ],
      "execution_count": 18,
      "outputs": [
        {
          "output_type": "stream",
          "text": [
            "6\n",
            "nettki\n"
          ],
          "name": "stdout"
        }
      ]
    },
    {
      "cell_type": "code",
      "metadata": {
        "colab": {
          "base_uri": "https://localhost:8080/",
          "height": 35
        },
        "id": "hFJ2NuRicLPR",
        "outputId": "6a3cd562-ea71-4ef9-e61c-cedcc3fd3810"
      },
      "source": [
        "def front3(str):\n",
        "  stringvalue = str[0:3]\n",
        "  repeat = stringvalue*3;\n",
        "  return repeat;\n",
        "\n",
        "front3(\"chocolate\")"
      ],
      "execution_count": null,
      "outputs": [
        {
          "output_type": "execute_result",
          "data": {
            "application/vnd.google.colaboratory.intrinsic+json": {
              "type": "string"
            },
            "text/plain": [
              "'chochocho'"
            ]
          },
          "metadata": {
            "tags": []
          },
          "execution_count": 50
        }
      ]
    },
    {
      "cell_type": "markdown",
      "metadata": {
        "id": "g7aCJu_EWQcW"
      },
      "source": [
        "#DICT"
      ]
    },
    {
      "cell_type": "code",
      "metadata": {
        "colab": {
          "base_uri": "https://localhost:8080/"
        },
        "id": "S2ZNOM06WP_e",
        "outputId": "c78cedfc-878e-4e95-e1c9-1df4fa1b9c83"
      },
      "source": [
        "my_dict = dict()\n",
        "my_dict_1 = my_dict\n",
        "my_dict_2 = {}\n",
        "\n",
        "\n",
        "print(type(my_dict) == dict)\n",
        "print(type(my_dict) == type(my_dict_1))\n",
        "print(len(my_dict_2))\n",
        "print(type(my_dict))"
      ],
      "execution_count": 30,
      "outputs": [
        {
          "output_type": "stream",
          "text": [
            "True\n",
            "True\n",
            "0\n",
            "<class 'dict'>\n"
          ],
          "name": "stdout"
        }
      ]
    },
    {
      "cell_type": "code",
      "metadata": {
        "colab": {
          "base_uri": "https://localhost:8080/"
        },
        "id": "4zf7gAHUX3DI",
        "outputId": "5a2932d7-db67-469f-93ec-d9614b37b147"
      },
      "source": [
        "my_dict = {1: 'one', 2: 'two', 3: 'three'}\n",
        "print(my_dict)\n",
        "\n",
        "print(my_dict.values())\n",
        "print(my_dict.keys())\n",
        "for k in my_dict:\n",
        "  print(my_dict[k])\n",
        "\n",
        "\n",
        "print(\"Enter only Key Values:\" , my_dict[3])\n",
        "print(\"Enter only Key Values:\" , my_dict[1])\n",
        "#print(\"Enter only Key Values:\" , my_dict[4]) # gives error as 0 key is not there . even for 4\n",
        "#print(\"Enter only Key Values:\" , my_dict[0])"
      ],
      "execution_count": 45,
      "outputs": [
        {
          "output_type": "stream",
          "text": [
            "{1: 'one', 2: 'two', 3: 'three'}\n",
            "dict_values(['one', 'two', 'three'])\n",
            "dict_keys([1, 2, 3])\n",
            "one\n",
            "two\n",
            "three\n",
            "Enter only Key Values: three\n",
            "Enter only Key Values: one\n"
          ],
          "name": "stdout"
        }
      ]
    },
    {
      "cell_type": "code",
      "metadata": {
        "colab": {
          "base_uri": "https://localhost:8080/"
        },
        "id": "-klH5a76Y8gf",
        "outputId": "41b4c149-fa8f-440b-c37e-a3f7ac67a7d6"
      },
      "source": [
        "#.get method \n",
        "for k in my_dict:\n",
        "  print(my_dict.get(k, None))\n",
        "  #print(my_dict[k])"
      ],
      "execution_count": 55,
      "outputs": [
        {
          "output_type": "stream",
          "text": [
            "one\n",
            "two\n",
            "three\n"
          ],
          "name": "stdout"
        }
      ]
    },
    {
      "cell_type": "markdown",
      "metadata": {
        "id": "PkOJs0ydb8u4"
      },
      "source": [
        "Changing values or updating values "
      ]
    },
    {
      "cell_type": "code",
      "metadata": {
        "colab": {
          "base_uri": "https://localhost:8080/"
        },
        "id": "wFTWyF5MZ3jK",
        "outputId": "f3ffc2c1-d28d-4611-b275-7f1028b4fbb8"
      },
      "source": [
        "my_dict[1] = \"Sun Rise\"\n",
        "my_dict[2] = \"Sun set\"\n",
        "print(my_dict)"
      ],
      "execution_count": 60,
      "outputs": [
        {
          "output_type": "stream",
          "text": [
            "{1: 'Sun Rise', 2: 'Sun set', 3: 'three'}\n"
          ],
          "name": "stdout"
        }
      ]
    },
    {
      "cell_type": "code",
      "metadata": {
        "colab": {
          "base_uri": "https://localhost:8080/"
        },
        "id": "Z1CN5J8pbsjC",
        "outputId": "f452afc5-1998-4930-e44c-aba66bddd07d"
      },
      "source": [
        "# Deleting \n",
        "# pop ()\n",
        "my_dict = {1: 'one', 2: 'two', 3: 'three'}\n",
        "my_dict.pop(1)\n",
        "print(my_dict)\n",
        "\n"
      ],
      "execution_count": 66,
      "outputs": [
        {
          "output_type": "stream",
          "text": [
            "{2: 'two', 3: 'three'}\n"
          ],
          "name": "stdout"
        }
      ]
    },
    {
      "cell_type": "code",
      "metadata": {
        "colab": {
          "base_uri": "https://localhost:8080/"
        },
        "id": "0U8f5GxXcN7r",
        "outputId": "ce58f652-8cb7-473d-9504-d8015977b3e6"
      },
      "source": [
        "print (my_dict)"
      ],
      "execution_count": 67,
      "outputs": [
        {
          "output_type": "stream",
          "text": [
            "{2: 'two', 3: 'three'}\n"
          ],
          "name": "stdout"
        }
      ]
    },
    {
      "cell_type": "code",
      "metadata": {
        "colab": {
          "base_uri": "https://localhost:8080/"
        },
        "id": "zLEUQ2j1ceFN",
        "outputId": "73d82d6a-b964-4767-c31c-6b262ce3db77"
      },
      "source": [
        "my_dict = {1: 'one', 2: 'two', 3: 'three', 4: 'one', 5: 'six'}\n",
        "print(my_dict)"
      ],
      "execution_count": 71,
      "outputs": [
        {
          "output_type": "stream",
          "text": [
            "{1: 'one', 2: 'two', 3: 'three', 4: 'one', 5: 'six'}\n"
          ],
          "name": "stdout"
        }
      ]
    },
    {
      "cell_type": "code",
      "metadata": {
        "colab": {
          "base_uri": "https://localhost:8080/"
        },
        "id": "ftkqd791dloe",
        "outputId": "035daa30-7a1e-4a26-f5f8-5422ada82e9b"
      },
      "source": [
        "for k in my_dict.values():\n",
        "  print(k.upper())\n",
        "\n",
        "  "
      ],
      "execution_count": 74,
      "outputs": [
        {
          "output_type": "stream",
          "text": [
            "ONE\n",
            "TWO\n",
            "THREE\n",
            "ONE\n",
            "SIX\n"
          ],
          "name": "stdout"
        }
      ]
    },
    {
      "cell_type": "code",
      "metadata": {
        "colab": {
          "base_uri": "https://localhost:8080/"
        },
        "id": "a7AiGXxseAyR",
        "outputId": "3892cb00-0a2c-483c-c480-b6320450365a"
      },
      "source": [
        "# Delete last two values from a dict\n",
        "value = len(my_dict)\n",
        "print(value)\n",
        "value =value-1;\n",
        "for k in range(1,value):\n",
        "  print(my_dict[k])"
      ],
      "execution_count": 88,
      "outputs": [
        {
          "output_type": "stream",
          "text": [
            "5\n",
            "one\n",
            "two\n",
            "three\n"
          ],
          "name": "stdout"
        }
      ]
    },
    {
      "cell_type": "code",
      "metadata": {
        "colab": {
          "base_uri": "https://localhost:8080/"
        },
        "id": "PFdMygVueb3B",
        "outputId": "78f20963-2ba4-4039-92ab-1648fa89794e"
      },
      "source": [
        "# Revere iteration of dict\n",
        "for k in sorted(my_dict.items(), reverse=True):\n",
        "  print(k)"
      ],
      "execution_count": 94,
      "outputs": [
        {
          "output_type": "stream",
          "text": [
            "(5, 'six')\n",
            "(4, 'one')\n",
            "(3, 'three')\n",
            "(2, 'two')\n",
            "(1, 'one')\n"
          ],
          "name": "stdout"
        }
      ]
    },
    {
      "cell_type": "code",
      "metadata": {
        "colab": {
          "base_uri": "https://localhost:8080/"
        },
        "id": "BBCgq_Lvf-Kr",
        "outputId": "5d92d813-2ebd-4a33-9651-fe6ee3d9896d"
      },
      "source": [
        "d = {'banana': 1, 'apple':2, 'pear': 3, 'orange': 4 , 'avacado': 4}\n",
        "new_d = OrderedDict(sorted(d.items())) # always orders it based on keys \n",
        "new_d_reverse = OrderedDict(sorted(d.items(), reverse=True))\n",
        "print(new_d)\n",
        "print(new_d_reverse)"
      ],
      "execution_count": 104,
      "outputs": [
        {
          "output_type": "stream",
          "text": [
            "OrderedDict([('apple', 2), ('avacado', 4), ('banana', 1), ('orange', 4), ('pear', 3)])\n",
            "OrderedDict([('pear', 3), ('orange', 4), ('banana', 1), ('avacado', 4), ('apple', 2)])\n"
          ],
          "name": "stdout"
        }
      ]
    },
    {
      "cell_type": "markdown",
      "metadata": {
        "id": "aOqlGSdFiprI"
      },
      "source": [
        "MERGEING DICT"
      ]
    },
    {
      "cell_type": "code",
      "metadata": {
        "colab": {
          "base_uri": "https://localhost:8080/"
        },
        "id": "bX0NzucdhuwQ",
        "outputId": "93f01a0c-c964-4d99-cbe4-20f32de77c84"
      },
      "source": [
        "dict1 = {'a':1, 'b':2}\n",
        "dict2 = {'c':3, 'd':4}\n",
        "\n",
        "dict3 = {**dict1, **dict2}\n",
        "dict3 \n",
        "# for python 3.9 and above#\n",
        "# dict3 = dict1 | dict2"
      ],
      "execution_count": 110,
      "outputs": [
        {
          "output_type": "execute_result",
          "data": {
            "text/plain": [
              "{'a': 1, 'b': 2, 'c': 3, 'd': 4}"
            ]
          },
          "metadata": {
            "tags": []
          },
          "execution_count": 110
        }
      ]
    },
    {
      "cell_type": "code",
      "metadata": {
        "colab": {
          "base_uri": "https://localhost:8080/"
        },
        "id": "XJArRWjjiveC",
        "outputId": "bbd05f26-aa15-4231-9ed4-3c7f75449e23"
      },
      "source": [
        "# Checking for key \n",
        "print('a' in dict3)"
      ],
      "execution_count": 112,
      "outputs": [
        {
          "output_type": "execute_result",
          "data": {
            "text/plain": [
              "True"
            ]
          },
          "metadata": {
            "tags": []
          },
          "execution_count": 112
        }
      ]
    },
    {
      "cell_type": "code",
      "metadata": {
        "colab": {
          "base_uri": "https://localhost:8080/"
        },
        "id": "g6ukp5l8i2cq",
        "outputId": "d60612c4-a329-47ab-f0a7-a55f1e17b28d"
      },
      "source": [
        "dict4 = {1:'a',2:'b',3:'c',(1,2,3):'d'}\n",
        "print((1,2,3) in dict4)"
      ],
      "execution_count": 120,
      "outputs": [
        {
          "output_type": "stream",
          "text": [
            "True\n"
          ],
          "name": "stdout"
        }
      ]
    },
    {
      "cell_type": "code",
      "metadata": {
        "colab": {
          "base_uri": "https://localhost:8080/"
        },
        "id": "BYV3OxQ7jqCE",
        "outputId": "2e0a956f-8ca9-49a9-e6d6-4d6e50207415"
      },
      "source": [
        "# Compare 2 Dict \n",
        "\n",
        "dict5  = {x: x+1 for x in range(1,10)}\n",
        "dict6 = {i : i+1 for i in range(5,15)}\n",
        "print (dict5)\n",
        "print(dict6)\n",
        "\n",
        "\n",
        "dict7 = {key:value for key in range(0,5) for value in range(1,6)}\n",
        "print(dict7)"
      ],
      "execution_count": 129,
      "outputs": [
        {
          "output_type": "stream",
          "text": [
            "{1: 2, 2: 3, 3: 4, 4: 5, 5: 6, 6: 7, 7: 8, 8: 9, 9: 10}\n",
            "{5: 6, 6: 7, 7: 8, 8: 9, 9: 10, 10: 11, 11: 12, 12: 13, 13: 14, 14: 15}\n",
            "{0: 5, 1: 5, 2: 5, 3: 5, 4: 5}\n"
          ],
          "name": "stdout"
        }
      ]
    },
    {
      "cell_type": "code",
      "metadata": {
        "colab": {
          "base_uri": "https://localhost:8080/"
        },
        "id": "l7j0VH5hkTQo",
        "outputId": "ef2684f6-a170-4d22-b8c9-40e66e196634"
      },
      "source": [
        ""
      ],
      "execution_count": 123,
      "outputs": [
        {
          "output_type": "stream",
          "text": [
            "{1: 1, 2: 4, 3: 9, 4: 16, 5: 25, 6: 36, 7: 49, 8: 64, 9: 81, 10: 100}\n"
          ],
          "name": "stdout"
        }
      ]
    },
    {
      "cell_type": "code",
      "metadata": {
        "colab": {
          "base_uri": "https://localhost:8080/"
        },
        "id": "MnNdGfcQka-a",
        "outputId": "1f7e32b5-f8b9-4e8c-c824-8c862c96e38a"
      },
      "source": [
        "# drop empty or None values in the dict\n",
        "dict8 = {1:\"apple\",2:\"mango\",3:\"pear\",4:None,5:\"\",6:\"banana\"}\n",
        "print(dict8)\n",
        "\n",
        "dict8 = {key:value for (key,value) in dict8.items() if value is not \"\" and value is not None }\n",
        "print(dict8)"
      ],
      "execution_count": 161,
      "outputs": [
        {
          "output_type": "stream",
          "text": [
            "{1: 'apple', 2: 'mango', 3: 'pear', 4: None, 5: '', 6: 'banana'}\n",
            "{1: 'apple', 2: 'mango', 3: 'pear', 6: 'banana'}\n"
          ],
          "name": "stdout"
        }
      ]
    },
    {
      "cell_type": "code",
      "metadata": {
        "colab": {
          "base_uri": "https://localhost:8080/"
        },
        "id": "xuIDoznWmMVo",
        "outputId": "03a30d83-1260-4001-9045-b1e7a5d32d21"
      },
      "source": [
        "# Python3 code to demonstrate working of  \n",
        "# Remove duplicate values in dictionary \n",
        "# Using dictionary comprehension \n",
        "  \n",
        "# initializing dictionary \n",
        "test_dict = { 'gfg' : 10, 'is' : 15, 'best' : 20, 'for' : 10, 'geeks' : 20} \n",
        "  \n",
        "# printing original dictionary \n",
        "print(\"The original dictionary is : \" , test_dict) \n",
        "\n",
        "\n",
        "temp = {val : key for key, val in test_dict.items()} \n",
        "print(temp)\n",
        "res = {val : key for key, val in temp.items()} \n",
        "\n",
        "print(res)"
      ],
      "execution_count": 167,
      "outputs": [
        {
          "output_type": "stream",
          "text": [
            "The original dictionary is :  {'gfg': 10, 'is': 15, 'best': 20, 'for': 10, 'geeks': 20}\n",
            "{10: 'for', 15: 'is', 20: 'geeks'}\n",
            "{'for': 10, 'is': 15, 'geeks': 20}\n"
          ],
          "name": "stdout"
        }
      ]
    },
    {
      "cell_type": "code",
      "metadata": {
        "colab": {
          "base_uri": "https://localhost:8080/"
        },
        "id": "HqVs6MP1pYax",
        "outputId": "b3194d47-527f-430c-ddf4-a600ddf55a28"
      },
      "source": [
        "# lowest or first values to be preserved \n",
        "\n",
        "temp = []\n",
        "res = dict()\n",
        "\n",
        "for k,v in test_dict.items():\n",
        "  if v not in temp:\n",
        "    temp.append(v)\n",
        "    res[k]=v  \n",
        "\n",
        "print(res)\n",
        "\n"
      ],
      "execution_count": 171,
      "outputs": [
        {
          "output_type": "stream",
          "text": [
            "{'gfg': 10, 'is': 15, 'best': 20}\n"
          ],
          "name": "stdout"
        }
      ]
    },
    {
      "cell_type": "code",
      "metadata": {
        "colab": {
          "base_uri": "https://localhost:8080/"
        },
        "id": "1wTKlhVgrcoX",
        "outputId": "d7da036c-fceb-4959-ea40-026b71d6a6b4"
      },
      "source": [
        "#Filter a Dictionary Based on Values\n",
        "\n",
        "heights = {'John': 175, 'Jane': 150, 'Jim': 155, 'Matt': 170}\n",
        "\n",
        "\n",
        "height_above_152 = {key:value for (key,value) in heights.items() if value> 152}\n",
        "print(height_above_152)"
      ],
      "execution_count": 172,
      "outputs": [
        {
          "output_type": "stream",
          "text": [
            "{'John': 175, 'Jim': 155, 'Matt': 170}\n"
          ],
          "name": "stdout"
        }
      ]
    },
    {
      "cell_type": "code",
      "metadata": {
        "colab": {
          "base_uri": "https://localhost:8080/"
        },
        "id": "b8Wz2HGbsua4",
        "outputId": "f9c65d12-010a-4059-b523-be6e9f02aecf"
      },
      "source": [
        "hp = {\n",
        "    'title': \"Harry Potter and the Philosopher's Stone\",\n",
        "    'author': \"J.K. Rowling\",\n",
        "    'publication': '1988-06-26'\n",
        "}\n",
        "\n",
        "\n",
        "print(hp['title'])\n",
        "\n",
        "print(\"***************\")\n",
        "\n",
        "for values in hp.values():\n",
        "  print (values)\n",
        "\n",
        "print(\"***************\")\n",
        "ages = {\n",
        "    'kevin': 12,\n",
        "    'marcus': 9,\n",
        "    'evan': 31,\n",
        "    'nik': 31\n",
        "}\n",
        "\n",
        "\n",
        "new_dict = {key:('odd' if value % 2 == 1 else 'even') for (key,value) in ages.items() }\n",
        "print (new_dict)"
      ],
      "execution_count": 183,
      "outputs": [
        {
          "output_type": "stream",
          "text": [
            "Harry Potter and the Philosopher's Stone\n",
            "***************\n",
            "Harry Potter and the Philosopher's Stone\n",
            "J.K. Rowling\n",
            "1988-06-26\n",
            "***************\n",
            "{'kevin': 'even', 'marcus': 'odd', 'evan': 'odd', 'nik': 'odd'}\n"
          ],
          "name": "stdout"
        }
      ]
    },
    {
      "cell_type": "code",
      "metadata": {
        "colab": {
          "base_uri": "https://localhost:8080/"
        },
        "id": "LZdB2VMFtHnC",
        "outputId": "d68eb67d-8f93-4204-c0a6-fafc8835c0d6"
      },
      "source": [
        "### Dictionary Comprehension Example: Using the Enumerate Function\n",
        "\n",
        "\n",
        "names = ['Harry', 'Hermione', 'Ron', 'Neville', 'Luna']\n",
        "index_1  = {k:v for (k, v) in enumerate(names)}\n",
        "print(\"index_1\",index_1)\n",
        "\n",
        "\n",
        "index = {k:v for (v,k) in enumerate(names)}\n",
        "print(index)"
      ],
      "execution_count": 189,
      "outputs": [
        {
          "output_type": "stream",
          "text": [
            "index_1 {0: 'Harry', 1: 'Hermione', 2: 'Ron', 3: 'Neville', 4: 'Luna'}\n",
            "{'Harry': 0, 'Hermione': 1, 'Ron': 2, 'Neville': 3, 'Luna': 4}\n"
          ],
          "name": "stdout"
        }
      ]
    },
    {
      "cell_type": "code",
      "metadata": {
        "colab": {
          "base_uri": "https://localhost:8080/"
        },
        "id": "mpkkQIKru38A",
        "outputId": "238b0699-9c75-410e-cf6d-c6aa17e442a3"
      },
      "source": [
        "ages = {\n",
        "    'kevin': 12,\n",
        "    'marcus': 9,\n",
        "    'evan': 31,\n",
        "    'nik': 31\n",
        "}\n",
        "ages = {key:ages[key] for key in ages.keys() - {'marcus', 'nik'}}\n",
        "print(ages)"
      ],
      "execution_count": 190,
      "outputs": [
        {
          "output_type": "stream",
          "text": [
            "{'kevin': 12, 'evan': 31}\n"
          ],
          "name": "stdout"
        }
      ]
    }
  ]
}