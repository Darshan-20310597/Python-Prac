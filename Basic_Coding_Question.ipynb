{
  "nbformat": 4,
  "nbformat_minor": 0,
  "metadata": {
    "colab": {
      "name": "Basic Coding Question.ipynb",
      "provenance": [],
      "collapsed_sections": [],
      "authorship_tag": "ABX9TyOqx/SCNj3zNqi4QZY1jeRF",
      "include_colab_link": true
    },
    "kernelspec": {
      "name": "python3",
      "display_name": "Python 3"
    },
    "accelerator": "GPU"
  },
  "cells": [
    {
      "cell_type": "markdown",
      "metadata": {
        "id": "view-in-github",
        "colab_type": "text"
      },
      "source": [
        "<a href=\"https://colab.research.google.com/github/Darshan-20310597/Python-Prac/blob/main/Basic_Coding_Question.ipynb\" target=\"_parent\"><img src=\"https://colab.research.google.com/assets/colab-badge.svg\" alt=\"Open In Colab\"/></a>"
      ]
    },
    {
      "cell_type": "code",
      "metadata": {
        "colab": {
          "base_uri": "https://localhost:8080/"
        },
        "id": "SK32FYmURYvM",
        "outputId": "a1052aba-7d71-4a53-e3f1-44a7c40f694e"
      },
      "source": [
        "print(\"Hello\")"
      ],
      "execution_count": null,
      "outputs": [
        {
          "output_type": "stream",
          "text": [
            "Hello\n"
          ],
          "name": "stdout"
        }
      ]
    },
    {
      "cell_type": "code",
      "metadata": {
        "id": "5pKFi7cdRa4G"
      },
      "source": [
        "def sleep_in(weekday,vacation):\r\n",
        "  if not weekday or vacation:\r\n",
        "    print(\"Sleep\")\r\n",
        "    return True;\r\n",
        "  else:\r\n",
        "    print(\"Get-up\")\r\n",
        "    return False;"
      ],
      "execution_count": null,
      "outputs": []
    },
    {
      "cell_type": "code",
      "metadata": {
        "colab": {
          "base_uri": "https://localhost:8080/"
        },
        "id": "1Mr7QfrUURlE",
        "outputId": "3a0ea029-68a5-4ccc-ce0b-bc1444168915"
      },
      "source": [
        "sleep_in(True,False)\r\n",
        "\r\n",
        "# Condition is weekend and vacation and you can sleep"
      ],
      "execution_count": null,
      "outputs": [
        {
          "output_type": "stream",
          "text": [
            "Getup\n"
          ],
          "name": "stdout"
        },
        {
          "output_type": "execute_result",
          "data": {
            "text/plain": [
              "False"
            ]
          },
          "metadata": {
            "tags": []
          },
          "execution_count": 9
        }
      ]
    },
    {
      "cell_type": "code",
      "metadata": {
        "id": "dRBd7HVNTbVb"
      },
      "source": [
        "def starts_with(str):\r\n",
        "  str = str.strip()  # Removes blanks \r\n",
        "  if str.startswith(\"not\"): # startswith\r\n",
        "    return str;\r\n",
        "  else:\r\n",
        "    return \"not\" + \" \" + str;"
      ],
      "execution_count": null,
      "outputs": []
    },
    {
      "cell_type": "code",
      "metadata": {
        "colab": {
          "base_uri": "https://localhost:8080/",
          "height": 35
        },
        "id": "WMtXY7cmXQSc",
        "outputId": "dbced9de-00ad-4db2-f69e-09975ef01a6f"
      },
      "source": [
        "starts_with(\" not Darshan\")"
      ],
      "execution_count": null,
      "outputs": [
        {
          "output_type": "execute_result",
          "data": {
            "application/vnd.google.colaboratory.intrinsic+json": {
              "type": "string"
            },
            "text/plain": [
              "'not Darshan'"
            ]
          },
          "metadata": {
            "tags": []
          },
          "execution_count": 23
        }
      ]
    },
    {
      "cell_type": "code",
      "metadata": {
        "id": "gqFtRUrRXQ4_"
      },
      "source": [
        "def missing_char(str,n):\r\n",
        "  str1 = str[0:n]   #Basic of matrix [:n] first n values without the nth value\r\n",
        "  str2 = str[n+1:]\r\n",
        "  return str1+str2;"
      ],
      "execution_count": null,
      "outputs": []
    },
    {
      "cell_type": "code",
      "metadata": {
        "colab": {
          "base_uri": "https://localhost:8080/",
          "height": 35
        },
        "id": "fDwtR0Y4UUVS",
        "outputId": "93002589-70a7-4b20-c010-63e8255ef625"
      },
      "source": [
        "missing_char(\"kitten\", 0)"
      ],
      "execution_count": null,
      "outputs": [
        {
          "output_type": "execute_result",
          "data": {
            "application/vnd.google.colaboratory.intrinsic+json": {
              "type": "string"
            },
            "text/plain": [
              "'itten'"
            ]
          },
          "metadata": {
            "tags": []
          },
          "execution_count": 33
        }
      ]
    },
    {
      "cell_type": "code",
      "metadata": {
        "id": "Apm3k7AUZPEy"
      },
      "source": [
        "def front_back(str):\r\n",
        "  val = str[-1];\r\n",
        "  val2 = str[0]\r\n",
        "  val3 = str[1:-1]\r\n",
        "  print(val+val3+val2);"
      ],
      "execution_count": null,
      "outputs": []
    },
    {
      "cell_type": "code",
      "metadata": {
        "colab": {
          "base_uri": "https://localhost:8080/"
        },
        "id": "4ANn9lE0ZRJs",
        "outputId": "3c76b6d4-696d-47e1-94c0-236071875c35"
      },
      "source": [
        "front_back('kitten')"
      ],
      "execution_count": 47,
      "outputs": [
        {
          "output_type": "stream",
          "text": [
            "nittek\n"
          ],
          "name": "stdout"
        }
      ]
    },
    {
      "cell_type": "code",
      "metadata": {
        "colab": {
          "base_uri": "https://localhost:8080/",
          "height": 35
        },
        "id": "hFJ2NuRicLPR",
        "outputId": "6a3cd562-ea71-4ef9-e61c-cedcc3fd3810"
      },
      "source": [
        "def front3(str):\r\n",
        "  stringvalue = str[0:3]\r\n",
        "  repeat = stringvalue*3;\r\n",
        "  return repeat;\r\n",
        "\r\n",
        "front3(\"chocolate\")"
      ],
      "execution_count": 50,
      "outputs": [
        {
          "output_type": "execute_result",
          "data": {
            "application/vnd.google.colaboratory.intrinsic+json": {
              "type": "string"
            },
            "text/plain": [
              "'chochocho'"
            ]
          },
          "metadata": {
            "tags": []
          },
          "execution_count": 50
        }
      ]
    }
  ]
}