{
  "nbformat": 4,
  "nbformat_minor": 0,
  "metadata": {
    "colab": {
      "name": "Part1_Python.ipynb",
      "provenance": [],
      "collapsed_sections": [],
      "authorship_tag": "ABX9TyPiluo+XxcV03Mz3pkmfEcn",
      "include_colab_link": true
    },
    "kernelspec": {
      "name": "python3",
      "display_name": "Python 3"
    }
  },
  "cells": [
    {
      "cell_type": "markdown",
      "metadata": {
        "id": "view-in-github",
        "colab_type": "text"
      },
      "source": [
        "<a href=\"https://colab.research.google.com/github/Darshan-20310597/Python-Prac/blob/main/Part1_Python.ipynb\" target=\"_parent\"><img src=\"https://colab.research.google.com/assets/colab-badge.svg\" alt=\"Open In Colab\"/></a>"
      ]
    },
    {
      "cell_type": "markdown",
      "metadata": {
        "id": "XByDZ1o0bo9j"
      },
      "source": [
        "Tricks for Pyhton coding \r\n",
        "1. Reverse a string with a single line of code "
      ]
    },
    {
      "cell_type": "code",
      "metadata": {
        "colab": {
          "base_uri": "https://localhost:8080/"
        },
        "id": "TaZJnVmbbxFz",
        "outputId": "fd5e2159-4d82-4f1c-ef05-3efdd98da200"
      },
      "source": [
        "print(\"Darshan\")\r\n",
        "name = \"Darshan\";\r\n",
        "print(name[::-1]) #Start:End:StepSize"
      ],
      "execution_count": 1,
      "outputs": [
        {
          "output_type": "stream",
          "text": [
            "Darshan\n",
            "nahsraD\n"
          ],
          "name": "stdout"
        }
      ]
    },
    {
      "cell_type": "markdown",
      "metadata": {
        "id": "QfBtbIhQ0tTU"
      },
      "source": [
        "2. youtube Downloader"
      ]
    },
    {
      "cell_type": "code",
      "metadata": {
        "id": "lK0w4hB60ySr",
        "outputId": "3f9204cb-e427-4347-f3a6-23b9f51d4dce",
        "colab": {
          "base_uri": "https://localhost:8080/"
        }
      },
      "source": [
        "!pip install pytube\r\n",
        "from pytube import YouTube\r\n",
        "link = input(\"Enter the link:\")\r\n",
        "video = YouTube(link)\r\n",
        "stream = video.streams.get_highest_resolution()\r\n",
        "stream.download();"
      ],
      "execution_count": 6,
      "outputs": [
        {
          "output_type": "stream",
          "text": [
            "Requirement already satisfied: pytube in /usr/local/lib/python3.7/dist-packages (10.5.1)\n",
            "Requirement already satisfied: typing-extensions in /usr/local/lib/python3.7/dist-packages (from pytube) (3.7.4.3)\n",
            "Enter the link:https://www.youtube.com/watch?v=lTTajzrSkCw&ab_channel=QUESSEBruno\n"
          ],
          "name": "stdout"
        }
      ]
    },
    {
      "cell_type": "code",
      "metadata": {
        "id": "GTBTxlYN9ve7"
      },
      "source": [
        ""
      ],
      "execution_count": null,
      "outputs": []
    }
  ]
}