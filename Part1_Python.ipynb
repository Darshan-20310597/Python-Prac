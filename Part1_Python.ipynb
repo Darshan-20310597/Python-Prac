{
  "nbformat": 4,
  "nbformat_minor": 0,
  "metadata": {
    "colab": {
      "name": "Part1_Python.ipynb",
      "provenance": [],
      "collapsed_sections": [],
      "authorship_tag": "ABX9TyMo4MocfnZUYJ6bsusjT6bO",
      "include_colab_link": true
    },
    "kernelspec": {
      "name": "python3",
      "display_name": "Python 3"
    }
  },
  "cells": [
    {
      "cell_type": "markdown",
      "metadata": {
        "id": "view-in-github",
        "colab_type": "text"
      },
      "source": [
        "<a href=\"https://colab.research.google.com/github/Darshan-20310597/Python-Prac/blob/main/Part1_Python.ipynb\" target=\"_parent\"><img src=\"https://colab.research.google.com/assets/colab-badge.svg\" alt=\"Open In Colab\"/></a>"
      ]
    },
    {
      "cell_type": "markdown",
      "metadata": {
        "id": "XByDZ1o0bo9j"
      },
      "source": [
        "Tricks for Pyhton coding \r\n",
        "1. Reverse a string with a single line of code "
      ]
    },
    {
      "cell_type": "code",
      "metadata": {
        "colab": {
          "base_uri": "https://localhost:8080/"
        },
        "id": "TaZJnVmbbxFz",
        "outputId": "072eea23-a7be-4e60-a6a9-660285595a41"
      },
      "source": [
        "print(\"Darshan\")\r\n",
        "name = \"Darshan\";\r\n",
        "print(name[::-1])"
      ],
      "execution_count": 4,
      "outputs": [
        {
          "output_type": "stream",
          "text": [
            "Darshan\n",
            "nahsraD\n"
          ],
          "name": "stdout"
        }
      ]
    }
  ]
}